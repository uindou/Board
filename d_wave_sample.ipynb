{
  "nbformat": 4,
  "nbformat_minor": 0,
  "metadata": {
    "colab": {
      "name": "d-wave_sample.ipynb",
      "provenance": [],
      "authorship_tag": "ABX9TyPLSpdV/Gn8pR4LYmEGyd2e"
    },
    "kernelspec": {
      "name": "python3",
      "display_name": "Python 3"
    }
  },
  "cells": [
    {
      "cell_type": "markdown",
      "metadata": {
        "id": "k-hh_JGFYp_i",
        "colab_type": "text"
      },
      "source": [
        "必要なパッケージをインポートする"
      ]
    },
    {
      "cell_type": "code",
      "metadata": {
        "id": "yX5bupnXkhN9",
        "colab_type": "code",
        "colab": {}
      },
      "source": [
        "!pip install dwave-ocean-sdk"
      ],
      "execution_count": null,
      "outputs": []
    },
    {
      "cell_type": "code",
      "metadata": {
        "id": "ssRXrntgkk-G",
        "colab_type": "code",
        "colab": {}
      },
      "source": [
        "import dimod\n",
        "from dwave.embedding import MinimizeEnergy, embed_bqm,embed_qubo, unembed_sampleset\n",
        "from dwave.system import DWaveSampler\n",
        "import minorminer\n",
        "\n",
        "import matplotlib.cm as cm\n",
        "import matplotlib.pyplot as plt\n",
        "import numpy as np"
      ],
      "execution_count": null,
      "outputs": []
    },
    {
      "cell_type": "markdown",
      "metadata": {
        "id": "3tqGfUiYXMZj",
        "colab_type": "text"
      },
      "source": [
        "QUBOを作成する。\n",
        "\n",
        "ここではhttps://qard.is.tohoku.ac.jp/T-Wave/?p=884 の(1),(2)式を使い、縦と横で1が重ならないようなものを作成"
      ]
    },
    {
      "cell_type": "code",
      "metadata": {
        "id": "g3m_k7sGkz4_",
        "colab_type": "code",
        "colab": {}
      },
      "source": [
        "k=8#QUBOのサイズ　ここでは行、列のサイズがk*kのものを作る。\n",
        "Q = {}#QUBO行列\n",
        "S = {}#隣接行列。Q(i,j)が非0→1　とする\n",
        "for i1 in range(k):\n",
        "  for j1 in range(k):\n",
        "    s1 = i1*k+j1\n",
        "    for i2 in range(i1,k):\n",
        "      for j2 in range(j1,k):\n",
        "        s2 = i2*k+j2\n",
        "        if(s1!=s2):\n",
        "          if (i1==i2) or (j1==j2):\n",
        "            S[(s1,s2)] = 1\n",
        "            Q[(s1,s2)] = 2\n",
        "    Q[(s1,s1)] =-2\n",
        "    S[(s1,s1)]=1"
      ],
      "execution_count": null,
      "outputs": []
    },
    {
      "cell_type": "markdown",
      "metadata": {
        "id": "AV2hNtNsX8FM",
        "colab_type": "text"
      },
      "source": [
        "QUBO行列を可視化する関数"
      ]
    },
    {
      "cell_type": "code",
      "metadata": {
        "id": "XLhN7C5Ok3cu",
        "colab_type": "code",
        "colab": {}
      },
      "source": [
        "def show_qubo(qubo, cmap=cm.GnBu, save_path=None):\n",
        "    n_qubo = max(sorted(qubo.keys())[-1][0], sorted(qubo.keys(), key=lambda x: x[1])[-1][1]) + 1\n",
        "\n",
        "    np_qubo = np.zeros((n_qubo, n_qubo))\n",
        "    for (pos_x, pos_y), coeff in qubo.items():\n",
        "        np_qubo[pos_x][pos_y] = coeff\n",
        "\n",
        "    plt.imshow(np_qubo, cmap=cmap)\n",
        "    plt.colorbar()\n",
        "    if save_path is not None:\n",
        "        plt.savefig(save_path)\n",
        "    plt.show()"
      ],
      "execution_count": null,
      "outputs": []
    },
    {
      "cell_type": "markdown",
      "metadata": {
        "id": "_MrSPahpY-gT",
        "colab_type": "text"
      },
      "source": [
        "実行結果"
      ]
    },
    {
      "cell_type": "code",
      "metadata": {
        "id": "zDuE6vY0lAFH",
        "colab_type": "code",
        "colab": {
          "base_uri": "https://localhost:8080/",
          "height": 269
        },
        "outputId": "9785d21f-82c2-4e8e-b6c9-2172d826a0d3"
      },
      "source": [
        "show_qubo(Q)"
      ],
      "execution_count": null,
      "outputs": [
        {
          "output_type": "display_data",
          "data": {
            "image/png": "[encoded data removed]",
            "text/plain": [
              "<Figure size 432x288 with 2 Axes>"
            ]
          },
          "metadata": {
            "tags": [],
            "needs_background": "light"
          }
        }
      ]
    },
    {
      "cell_type": "markdown",
      "metadata": {
        "id": "6tbgLnwgZ_hs",
        "colab_type": "text"
      },
      "source": [
        "D-waveマシンにアクセスし、出力をもらう"
      ]
    },
    {
      "cell_type": "code",
      "metadata": {
        "id": "rIq6bToUlNwW",
        "colab_type": "code",
        "colab": {
          "base_uri": "https://localhost:8080/",
          "height": 179
        },
        "outputId": "a363155b-9766-41dd-f2e1-58204380c173"
      },
      "source": [
        "url = \"https://cloud.dwavesys.com/sapi\"#webAPIでアクセスするurl\n",
        "token = \"\"# Fill your API token\n",
        "solver_name = \"DW_2000Q_6\"# Choose a solver such as DW_2000Q_6\n",
        "num_reads = 1000#アニーリングを実行する回数\n",
        "sampler = DWaveSampler(endpoint=url, token=token, solver=solver_name)\n",
        "\n",
        "#minorminerを使って、論理ビットをキメラグラフへ埋め込む\n",
        "embedding = minorminer.find_embedding(S, sampler.edgelist) \n",
        "\n",
        "bqm = dimod.BinaryQuadraticModel.from_qubo(Q)\n",
        "bqm_embed = embed_bqm(bqm, embedding, sampler.adjacency)\n",
        "#d-waveにアクセスして、結果をもらう\n",
        "result = sampler.sample(bqm_embed, num_reads = num_reads)\n",
        "#後処理をする。埋め込みされた結果→もとの論理ビットへ\n",
        "cbm = MinimizeEnergy(bqm, embedding)\n",
        "sample = unembed_sampleset(result, embedding, bqm, chain_break_method=cbm)\n",
        "#一番エネルギーが低い解を表示する。energy→解のエネルギー、sample→解\n",
        "print(sample.lowest().record[\"energy\"][0])\n",
        "sample1 = sample.lowest().record['sample'][0]\n",
        "for i in range(k):\n",
        "  print(*sample1[k*i:k*(i+1)],sep=\"\")"
      ],
      "execution_count": null,
      "outputs": [
        {
          "output_type": "stream",
          "text": [
            "-160.0\n",
            "10000000\n",
            "00001000\n",
            "01000000\n",
            "00010000\n",
            "00100000\n",
            "00000100\n",
            "00000010\n",
            "00000001\n"
          ],
          "name": "stdout"
        }
      ]
    }
  ]
}